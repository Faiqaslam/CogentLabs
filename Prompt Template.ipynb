{
 "cells": [
  {
   "cell_type": "markdown",
   "metadata": {},
   "source": [
    "TASK 2"
   ]
  },
  {
   "cell_type": "code",
   "execution_count": 1,
   "metadata": {},
   "outputs": [],
   "source": [
    "from langchain import PromptTemplate"
   ]
  },
  {
   "cell_type": "code",
   "execution_count": 2,
   "metadata": {},
   "outputs": [],
   "source": [
    "TEMPLATE =\"\"\"\n",
    "You are an Academic Assistant, your role is to creating personalized study plans for student \"{student_name}\", thoroughly analyze following data to ensure that the study plans are all-inclusive and individualized,\n",
    "1. Subjects: {subjects}\n",
    "2. Field of Study:{field_of_study}\n",
    "3. year_of_study:{year_of_study}\n",
    "4. List of subjects: {List_of_subjects}\n",
    "5. Prefered Learning Style: {prefered_learning_style}\n",
    "6. Personal Objective: {personal_objective}\n",
    "7. Challenges: {challenges}\n",
    "8. Extracurricular activities{extracurricular_activities}\n",
    "\n",
    "Please synthesize this information to create a study plan that not only addresses academic requirements but also aligns with {student_name} unique needs and aspirations. Ensure that the study plan encompasses the following aspects:\n",
    "\n",
    "- Academic Performance: Summarize the {student_name}'s performance across different subjects, highlighting areas of strength and improvement.\n",
    "- Preferred Learning Styles: Identify the {student_name}'s preferred learning style, whether visual, auditory, or kinesthetic.\n",
    "- Personal Objectives or Challenges: Address any specific objectives or challenges, such as preparing for a particular exam or overcoming learning difficulties.\n",
    "- Extracurricular Activities: Consider {student_name}'s involvement in extracurricular activities and how it impacts his/her study schedule.\n",
    "\n",
    "The study plan should be structured to provide a comprehensive roadmap for the student's academic journey, taking into account their individual strengths, areas for improvement, and aspirations. when formulating the study plan.\n",
    "\"\"\"\n"
   ]
  },
  {
   "cell_type": "code",
   "execution_count": 3,
   "metadata": {},
   "outputs": [],
   "source": [
    "prompt = PromptTemplate (\n",
    "    input_variables = [\"student_name\", \"subjects\", \"field_of_study\", \"year_of_study\",\"List_of_subjects\", \"prefered_learning_style\", \"personal_objective\", \"challenges\", \"extracurricular_activities\" ],\n",
    "    template = TEMPLATE,\n",
    ")"
   ]
  },
  {
   "cell_type": "code",
   "execution_count": null,
   "metadata": {},
   "outputs": [],
   "source": []
  }
 ],
 "metadata": {
  "kernelspec": {
   "display_name": "myenv",
   "language": "python",
   "name": "python3"
  },
  "language_info": {
   "codemirror_mode": {
    "name": "ipython",
    "version": 3
   },
   "file_extension": ".py",
   "mimetype": "text/x-python",
   "name": "python",
   "nbconvert_exporter": "python",
   "pygments_lexer": "ipython3",
   "version": "3.11.6"
  }
 },
 "nbformat": 4,
 "nbformat_minor": 2
}
